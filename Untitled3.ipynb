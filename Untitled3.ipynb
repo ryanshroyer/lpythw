{
 "cells": [
  {
   "cell_type": "code",
   "execution_count": 5,
   "id": "6ae5c90c-5dca-4698-9f0e-e8a246713f92",
   "metadata": {},
   "outputs": [
    {
     "name": "stdin",
     "output_type": "stream",
     "text": [
      "What is your name? Max\n"
     ]
    },
    {
     "name": "stdout",
     "output_type": "stream",
     "text": [
      "Hello World! Or maybe just Hello Max!\n"
     ]
    }
   ],
   "source": [
    "def hw():\n",
    "    name = input(\"What is your name?\")\n",
    "    print(f\"Hello World! Or maybe just Hello {name}!\")\n",
    "\n",
    "hw()\n"
   ]
  },
  {
   "cell_type": "code",
   "execution_count": 6,
   "id": "a66f994a-d339-4828-beee-b3814e3d6adb",
   "metadata": {},
   "outputs": [
    {
     "name": "stdout",
     "output_type": "stream",
     "text": [
      "arg1: Ryan, arg2: Shroyer\n",
      "arg1: Ryan, arg2: Shroyer\n",
      "arg1: Me!\n",
      "I got nothin'.\n"
     ]
    }
   ],
   "source": [
    "# this one is like your scripts with argv\n",
    "def print_two(*args):\n",
    "    arg1, arg2 = args\n",
    "    print(f\"arg1: {arg1}, arg2: {arg2}\")\n",
    "\n",
    "# ok, that $args is actually pointless; we can just do this:\n",
    "def print_two_again(arg1, arg2):\n",
    "    print(f\"arg1: {arg1}, arg2: {arg2}\")\n",
    "\n",
    "# this just takes one argument\n",
    "def print_one(arg1):\n",
    "    print(f\"arg1: {arg1}\")\n",
    "\n",
    "# this one takes no arguments\n",
    "def print_none():\n",
    "    print(\"I got nothin'.\")\n",
    "\n",
    "print_two(\"Ryan\", \"Shroyer\")\n",
    "print_two_again(\"Ryan\", \"Shroyer\")\n",
    "print_one(\"Me!\")\n",
    "print_none()\n"
   ]
  },
  {
   "cell_type": "code",
   "execution_count": 7,
   "id": "c66151ac-f9d5-4195-bdaf-840a9e77299f",
   "metadata": {},
   "outputs": [
    {
     "name": "stdout",
     "output_type": "stream",
     "text": [
      "arg1: Frist!\n"
     ]
    }
   ],
   "source": [
    "def print_one(arg1):\n",
    "    print(f\"arg1: {arg1}\")\n",
    "\n",
    "y = \"Frist!\"\n",
    "print_one(y)"
   ]
  },
  {
   "cell_type": "code",
   "execution_count": null,
   "id": "ed2eb704-bdc8-4411-b0a4-7d2117347e8c",
   "metadata": {},
   "outputs": [],
   "source": []
  }
 ],
 "metadata": {
  "kernelspec": {
   "display_name": "Python 3 (ipykernel)",
   "language": "python",
   "name": "python3"
  },
  "language_info": {
   "codemirror_mode": {
    "name": "ipython",
    "version": 3
   },
   "file_extension": ".py",
   "mimetype": "text/x-python",
   "name": "python",
   "nbconvert_exporter": "python",
   "pygments_lexer": "ipython3",
   "version": "3.12.5"
  }
 },
 "nbformat": 4,
 "nbformat_minor": 5
}

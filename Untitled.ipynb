{
 "cells": [
  {
   "cell_type": "code",
   "execution_count": 1,
   "id": "6f0dda77-a778-4d96-b098-bec17da5979b",
   "metadata": {},
   "outputs": [
    {
     "name": "stdout",
     "output_type": "stream",
     "text": [
      "Hello World!\n"
     ]
    }
   ],
   "source": [
    "print(\"Hello World!\")"
   ]
  },
  {
   "cell_type": "code",
   "execution_count": 3,
   "id": "9b0be662-de89-4639-954b-901d2bf88c8b",
   "metadata": {},
   "outputs": [
    {
     "name": "stdout",
     "output_type": "stream",
     "text": [
      "Hello World!\n",
      "Hello Again\n",
      "I like typing this.\n",
      "This is fun.\n",
      "Yay! Printing.\n",
      "I'd much rather you 'not'.\n",
      "I \"said\" do not touch this.\n"
     ]
    }
   ],
   "source": [
    "print(\"Hello World!\")\n",
    "print(\"Hello Again\")\n",
    "print(\"I like typing this.\")\n",
    "print(\"This is fun.\")\n",
    "print('Yay! Printing.')\n",
    "print(\"I'd much rather you 'not'.\")\n",
    "print('I \"said\" do not touch this.')"
   ]
  },
  {
   "cell_type": "code",
   "execution_count": 4,
   "id": "e66c0394-e71a-4860-a812-ac0200cc84ba",
   "metadata": {},
   "outputs": [
    {
     "name": "stdout",
     "output_type": "stream",
     "text": [
      "This is yet another line!\n"
     ]
    }
   ],
   "source": [
    "print(\"This is yet another line!\")"
   ]
  },
  {
   "cell_type": "code",
   "execution_count": 5,
   "id": "1a4d6b63-5c29-4c5c-9c10-111c7c58a828",
   "metadata": {},
   "outputs": [],
   "source": [
    "# print(\"This is probably a comment.\")"
   ]
  },
  {
   "cell_type": "code",
   "execution_count": 9,
   "id": "2bf278d0-a7f7-4944-a0f4-9ff12c38bb26",
   "metadata": {},
   "outputs": [
    {
     "name": "stdout",
     "output_type": "stream",
     "text": [
      "I will now count my chickens:\n",
      "Hens 30.0\n",
      "Roosters 95.0\n",
      "Now I will count the eggs:\n",
      "6.75\n",
      "Is it true that 3 + 2 < 5 - 7?\n",
      "0.0\n",
      "What is 3 + 2? 5.0\n",
      "What is 5 - 7? -2.0\n",
      "Oh, that's why it's False.\n",
      "How about some more.\n",
      "Is it greater? True\n",
      "Is it greater or equal? True\n",
      "Is it less or equal? False\n"
     ]
    }
   ],
   "source": [
    "print(\"I will now count my chickens:\")\n",
    "\n",
    "print(\"Hens\", float(25 + 30 / 6))\n",
    "print(\"Roosters\", float(100 - 25 * 3 % 7))\n",
    "\n",
    "print(\"Now I will count the eggs:\")\n",
    "\n",
    "print(float(3 + 2 + 1 - 5 + 4 % 2 - 1 / 4 + 6))\n",
    "\n",
    "print(\"Is it true that 3 + 2 < 5 - 7?\")\n",
    "\n",
    "print(float(3 + 2 < 5 - 7))\n",
    "\n",
    "print(\"What is 3 + 2?\", float(3 + 2))\n",
    "print(\"What is 5 - 7?\", float(5 - 7))\n",
    "\n",
    "print(\"Oh, that's why it's False.\")\n",
    "\n",
    "print(\"How about some more.\")\n",
    "\n",
    "print(\"Is it greater?\", 5 > -2)\n",
    "print(\"Is it greater or equal?\", 5 >= -2)\n",
    "print(\"Is it less or equal?\", 5 <= -2)\n"
   ]
  },
  {
   "cell_type": "code",
   "execution_count": 8,
   "id": "a59db8f2-c78a-4e44-8efb-7071d606d845",
   "metadata": {},
   "outputs": [
    {
     "data": {
      "text/plain": [
       "50.5"
      ]
     },
     "execution_count": 8,
     "metadata": {},
     "output_type": "execute_result"
    }
   ],
   "source": [
    "50 + 2 / 4"
   ]
  },
  {
   "cell_type": "code",
   "execution_count": null,
   "id": "3f45f848-57a1-4861-8757-11703686b4e4",
   "metadata": {},
   "outputs": [],
   "source": []
  }
 ],
 "metadata": {
  "kernelspec": {
   "display_name": "Python 3 (ipykernel)",
   "language": "python",
   "name": "python3"
  },
  "language_info": {
   "codemirror_mode": {
    "name": "ipython",
    "version": 3
   },
   "file_extension": ".py",
   "mimetype": "text/x-python",
   "name": "python",
   "nbconvert_exporter": "python",
   "pygments_lexer": "ipython3",
   "version": "3.12.5"
  }
 },
 "nbformat": 4,
 "nbformat_minor": 5
}

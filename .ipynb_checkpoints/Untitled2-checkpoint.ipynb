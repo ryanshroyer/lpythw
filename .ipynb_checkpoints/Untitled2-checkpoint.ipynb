{
 "cells": [
  {
   "cell_type": "code",
   "execution_count": 3,
   "id": "bb08daff-a90f-462a-9dd4-e966c5d97321",
   "metadata": {
    "editable": true,
    "slideshow": {
     "slide_type": ""
    },
    "tags": []
   },
   "outputs": [
    {
     "name": "stdout",
     "output_type": "stream",
     "text": [
      "Copying from test.txt to new_test.txt\n",
      "The input file is 23 bytes long\n",
      "Does the output file exist? False\n",
      "Read, hit RETURN to continue, CTRL-C to abort.\n"
     ]
    },
    {
     "name": "stdin",
     "output_type": "stream",
     "text": [
      " \n"
     ]
    },
    {
     "name": "stdout",
     "output_type": "stream",
     "text": [
      "Alright, all done.\n"
     ]
    }
   ],
   "source": [
    "from os.path import exists\n",
    "\n",
    "from_file = \"test.txt\"\n",
    "to_file = \"new_test.txt\"\n",
    "\n",
    "print(f\"Copying from {from_file} to {to_file}\")\n",
    "\n",
    "# we could do these two on one line, how?\n",
    "in_file = open(from_file)\n",
    "indata = in_file.read()\n",
    "\n",
    "print(f\"The input file is {len(indata)} bytes long\")\n",
    "\n",
    "print(f\"Does the output file exist? {exists(to_file)}\")\n",
    "print(\"Read, hit RETURN to continue, CTRL-C to abort.\")\n",
    "input()\n",
    "\n",
    "out_file = open(to_file, 'w')\n",
    "out_file.write(indata)\n",
    "\n",
    "print(\"Alright, all done.\")\n",
    "\n",
    "out_file.close()\n",
    "in_file.close()\n"
   ]
  },
  {
   "cell_type": "code",
   "execution_count": null,
   "id": "1fe808fa-cb6e-4db6-aa44-541b6cc48e4e",
   "metadata": {},
   "outputs": [],
   "source": []
  }
 ],
 "metadata": {
  "kernelspec": {
   "display_name": "Python 3 (ipykernel)",
   "language": "python",
   "name": "python3"
  },
  "language_info": {
   "codemirror_mode": {
    "name": "ipython",
    "version": 3
   },
   "file_extension": ".py",
   "mimetype": "text/x-python",
   "name": "python",
   "nbconvert_exporter": "python",
   "pygments_lexer": "ipython3",
   "version": "3.12.5"
  }
 },
 "nbformat": 4,
 "nbformat_minor": 5
}
